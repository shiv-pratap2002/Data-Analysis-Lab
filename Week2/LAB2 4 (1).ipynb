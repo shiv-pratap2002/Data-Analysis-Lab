{
 "cells": [
  {
   "cell_type": "markdown",
   "metadata": {},
   "source": [
    "Name - Shiv Pratap Singh,\n",
    "Reg No -  200968038,\n",
    "Week - 2, DataSet - Bollywood.csv"
   ]
  },
  {
   "cell_type": "code",
   "execution_count": 1,
   "metadata": {},
   "outputs": [],
   "source": [
    "import pandas as pd"
   ]
  },
  {
   "cell_type": "code",
   "execution_count": 2,
   "metadata": {},
   "outputs": [],
   "source": [
    "df =pd.read_csv('bollywood.csv')"
   ]
  },
  {
   "cell_type": "code",
   "execution_count": 3,
   "metadata": {},
   "outputs": [
    {
     "data": {
      "text/html": [
       "<div>\n",
       "<style scoped>\n",
       "    .dataframe tbody tr th:only-of-type {\n",
       "        vertical-align: middle;\n",
       "    }\n",
       "\n",
       "    .dataframe tbody tr th {\n",
       "        vertical-align: top;\n",
       "    }\n",
       "\n",
       "    .dataframe thead th {\n",
       "        text-align: right;\n",
       "    }\n",
       "</style>\n",
       "<table border=\"1\" class=\"dataframe\">\n",
       "  <thead>\n",
       "    <tr style=\"text-align: right;\">\n",
       "      <th></th>\n",
       "      <th>SlNo</th>\n",
       "      <th>Release Date</th>\n",
       "      <th>MovieName</th>\n",
       "      <th>ReleaseTime</th>\n",
       "      <th>Genre</th>\n",
       "      <th>Budget</th>\n",
       "      <th>BoxOfficeCollection</th>\n",
       "      <th>YoutubeViews</th>\n",
       "      <th>YoutubeLikes</th>\n",
       "      <th>YoutubeDislikes</th>\n",
       "    </tr>\n",
       "  </thead>\n",
       "  <tbody>\n",
       "    <tr>\n",
       "      <th>0</th>\n",
       "      <td>1</td>\n",
       "      <td>18-Apr-14</td>\n",
       "      <td>2 States</td>\n",
       "      <td>LW</td>\n",
       "      <td>Romance</td>\n",
       "      <td>36</td>\n",
       "      <td>104.00</td>\n",
       "      <td>8576361</td>\n",
       "      <td>26622</td>\n",
       "      <td>2527</td>\n",
       "    </tr>\n",
       "    <tr>\n",
       "      <th>1</th>\n",
       "      <td>2</td>\n",
       "      <td>4-Jan-13</td>\n",
       "      <td>Table No. 21</td>\n",
       "      <td>N</td>\n",
       "      <td>Thriller</td>\n",
       "      <td>10</td>\n",
       "      <td>12.00</td>\n",
       "      <td>1087320</td>\n",
       "      <td>1129</td>\n",
       "      <td>137</td>\n",
       "    </tr>\n",
       "    <tr>\n",
       "      <th>2</th>\n",
       "      <td>3</td>\n",
       "      <td>18-Jul-14</td>\n",
       "      <td>Amit Sahni Ki List</td>\n",
       "      <td>N</td>\n",
       "      <td>Comedy</td>\n",
       "      <td>10</td>\n",
       "      <td>4.00</td>\n",
       "      <td>572336</td>\n",
       "      <td>586</td>\n",
       "      <td>54</td>\n",
       "    </tr>\n",
       "    <tr>\n",
       "      <th>3</th>\n",
       "      <td>4</td>\n",
       "      <td>4-Jan-13</td>\n",
       "      <td>Rajdhani Express</td>\n",
       "      <td>N</td>\n",
       "      <td>Drama</td>\n",
       "      <td>7</td>\n",
       "      <td>0.35</td>\n",
       "      <td>42626</td>\n",
       "      <td>86</td>\n",
       "      <td>19</td>\n",
       "    </tr>\n",
       "    <tr>\n",
       "      <th>4</th>\n",
       "      <td>5</td>\n",
       "      <td>4-Jul-14</td>\n",
       "      <td>Bobby Jasoos</td>\n",
       "      <td>N</td>\n",
       "      <td>Comedy</td>\n",
       "      <td>18</td>\n",
       "      <td>10.80</td>\n",
       "      <td>3113427</td>\n",
       "      <td>4512</td>\n",
       "      <td>1224</td>\n",
       "    </tr>\n",
       "  </tbody>\n",
       "</table>\n",
       "</div>"
      ],
      "text/plain": [
       "   SlNo Release Date           MovieName ReleaseTime      Genre  Budget  \\\n",
       "0     1    18-Apr-14            2 States          LW    Romance      36   \n",
       "1     2     4-Jan-13        Table No. 21           N  Thriller       10   \n",
       "2     3    18-Jul-14  Amit Sahni Ki List           N     Comedy      10   \n",
       "3     4     4-Jan-13    Rajdhani Express           N     Drama        7   \n",
       "4     5     4-Jul-14        Bobby Jasoos           N     Comedy      18   \n",
       "\n",
       "   BoxOfficeCollection  YoutubeViews  YoutubeLikes  YoutubeDislikes  \n",
       "0               104.00       8576361         26622             2527  \n",
       "1                12.00       1087320          1129              137  \n",
       "2                 4.00        572336           586               54  \n",
       "3                 0.35         42626            86               19  \n",
       "4                10.80       3113427          4512             1224  "
      ]
     },
     "execution_count": 3,
     "metadata": {},
     "output_type": "execute_result"
    }
   ],
   "source": [
    "df.head()"
   ]
  },
  {
   "cell_type": "markdown",
   "metadata": {},
   "source": [
    "Q1 - How many records are present in the dataset?\n"
   ]
  },
  {
   "cell_type": "code",
   "execution_count": 4,
   "metadata": {},
   "outputs": [
    {
     "data": {
      "text/plain": [
       "149"
      ]
     },
     "execution_count": 4,
     "metadata": {},
     "output_type": "execute_result"
    }
   ],
   "source": [
    "df.shape[0]"
   ]
  },
  {
   "cell_type": "markdown",
   "metadata": {},
   "source": [
    "149 records present in the dataset"
   ]
  },
  {
   "cell_type": "code",
   "execution_count": 5,
   "metadata": {},
   "outputs": [],
   "source": [
    "df.Genre = df.Genre.str.strip()"
   ]
  },
  {
   "cell_type": "markdown",
   "metadata": {},
   "source": [
    "Q2 - How many movies were released in each Release Time?Sort number of releases in Release Time  in descending order."
   ]
  },
  {
   "cell_type": "code",
   "execution_count": 94,
   "metadata": {},
   "outputs": [
    {
     "data": {
      "text/plain": [
       "N     99\n",
       "HS    18\n",
       "FS    17\n",
       "LW    15\n",
       "Name: ReleaseTime, dtype: int64"
      ]
     },
     "execution_count": 94,
     "metadata": {},
     "output_type": "execute_result"
    }
   ],
   "source": [
    "df.ReleaseTime.value_counts()"
   ]
  },
  {
   "cell_type": "markdown",
   "metadata": {},
   "source": [
    "Q3 -Which genre had highest number of releases during the Festive Season?"
   ]
  },
  {
   "cell_type": "code",
   "execution_count": 8,
   "metadata": {},
   "outputs": [
    {
     "data": {
      "text/html": [
       "<div>\n",
       "<style scoped>\n",
       "    .dataframe tbody tr th:only-of-type {\n",
       "        vertical-align: middle;\n",
       "    }\n",
       "\n",
       "    .dataframe tbody tr th {\n",
       "        vertical-align: top;\n",
       "    }\n",
       "\n",
       "    .dataframe thead th {\n",
       "        text-align: right;\n",
       "    }\n",
       "</style>\n",
       "<table border=\"1\" class=\"dataframe\">\n",
       "  <thead>\n",
       "    <tr style=\"text-align: right;\">\n",
       "      <th></th>\n",
       "      <th>SlNo</th>\n",
       "      <th>Release Date</th>\n",
       "      <th>MovieName</th>\n",
       "      <th>Genre</th>\n",
       "      <th>Budget</th>\n",
       "      <th>BoxOfficeCollection</th>\n",
       "      <th>YoutubeViews</th>\n",
       "      <th>YoutubeLikes</th>\n",
       "      <th>YoutubeDislikes</th>\n",
       "    </tr>\n",
       "  </thead>\n",
       "  <tbody>\n",
       "    <tr>\n",
       "      <th>23</th>\n",
       "      <td>24</td>\n",
       "      <td>2-Oct-14</td>\n",
       "      <td>Haider</td>\n",
       "      <td>Drama</td>\n",
       "      <td>24</td>\n",
       "      <td>69.0</td>\n",
       "      <td>7048104</td>\n",
       "      <td>23590</td>\n",
       "      <td>2443</td>\n",
       "    </tr>\n",
       "    <tr>\n",
       "      <th>31</th>\n",
       "      <td>32</td>\n",
       "      <td>15-Feb-13</td>\n",
       "      <td>Murder 3</td>\n",
       "      <td>Thriller</td>\n",
       "      <td>12</td>\n",
       "      <td>25.0</td>\n",
       "      <td>2249055</td>\n",
       "      <td>1879</td>\n",
       "      <td>747</td>\n",
       "    </tr>\n",
       "    <tr>\n",
       "      <th>40</th>\n",
       "      <td>41</td>\n",
       "      <td>8-Mar-13</td>\n",
       "      <td>Saheb, Biwi Aur Gangster Returns</td>\n",
       "      <td>Drama</td>\n",
       "      <td>15</td>\n",
       "      <td>22.0</td>\n",
       "      <td>1176596</td>\n",
       "      <td>1037</td>\n",
       "      <td>189</td>\n",
       "    </tr>\n",
       "    <tr>\n",
       "      <th>62</th>\n",
       "      <td>63</td>\n",
       "      <td>19-Apr-13</td>\n",
       "      <td>Ek Thi Daayan</td>\n",
       "      <td>Thriller</td>\n",
       "      <td>24</td>\n",
       "      <td>45.0</td>\n",
       "      <td>1837437</td>\n",
       "      <td>3296</td>\n",
       "      <td>613</td>\n",
       "    </tr>\n",
       "    <tr>\n",
       "      <th>92</th>\n",
       "      <td>93</td>\n",
       "      <td>2-Oct-14</td>\n",
       "      <td>Bang Bang</td>\n",
       "      <td>Action</td>\n",
       "      <td>140</td>\n",
       "      <td>340.0</td>\n",
       "      <td>15889811</td>\n",
       "      <td>61805</td>\n",
       "      <td>6283</td>\n",
       "    </tr>\n",
       "    <tr>\n",
       "      <th>106</th>\n",
       "      <td>107</td>\n",
       "      <td>14-Mar-14</td>\n",
       "      <td>Bewakoofiyan</td>\n",
       "      <td>Romance</td>\n",
       "      <td>22</td>\n",
       "      <td>14.0</td>\n",
       "      <td>2850376</td>\n",
       "      <td>4764</td>\n",
       "      <td>1068</td>\n",
       "    </tr>\n",
       "    <tr>\n",
       "      <th>115</th>\n",
       "      <td>116</td>\n",
       "      <td>9-Aug-13</td>\n",
       "      <td>Chennai Express</td>\n",
       "      <td>Comedy</td>\n",
       "      <td>75</td>\n",
       "      <td>395.0</td>\n",
       "      <td>1882346</td>\n",
       "      <td>7954</td>\n",
       "      <td>1593</td>\n",
       "    </tr>\n",
       "    <tr>\n",
       "      <th>116</th>\n",
       "      <td>117</td>\n",
       "      <td>15-Aug-13</td>\n",
       "      <td>Once Upon Ay Time In Mumbai Dobaara!</td>\n",
       "      <td>Thriller</td>\n",
       "      <td>100</td>\n",
       "      <td>80.0</td>\n",
       "      <td>3077135</td>\n",
       "      <td>9200</td>\n",
       "      <td>2821</td>\n",
       "    </tr>\n",
       "    <tr>\n",
       "      <th>119</th>\n",
       "      <td>120</td>\n",
       "      <td>1-Nov-13</td>\n",
       "      <td>Krrish 3</td>\n",
       "      <td>Action</td>\n",
       "      <td>115</td>\n",
       "      <td>300.0</td>\n",
       "      <td>23171067</td>\n",
       "      <td>72070</td>\n",
       "      <td>11888</td>\n",
       "    </tr>\n",
       "    <tr>\n",
       "      <th>121</th>\n",
       "      <td>122</td>\n",
       "      <td>8-Nov-13</td>\n",
       "      <td>Satya 2</td>\n",
       "      <td>Thriller</td>\n",
       "      <td>15</td>\n",
       "      <td>1.1</td>\n",
       "      <td>110315</td>\n",
       "      <td>89</td>\n",
       "      <td>26</td>\n",
       "    </tr>\n",
       "    <tr>\n",
       "      <th>122</th>\n",
       "      <td>123</td>\n",
       "      <td>15-Nov-13</td>\n",
       "      <td>Rajjo</td>\n",
       "      <td>Romance</td>\n",
       "      <td>12</td>\n",
       "      <td>2.0</td>\n",
       "      <td>1718619</td>\n",
       "      <td>1606</td>\n",
       "      <td>1083</td>\n",
       "    </tr>\n",
       "    <tr>\n",
       "      <th>125</th>\n",
       "      <td>126</td>\n",
       "      <td>11-Oct-13</td>\n",
       "      <td>War Chhod Na Yaar</td>\n",
       "      <td>Comedy</td>\n",
       "      <td>14</td>\n",
       "      <td>7.5</td>\n",
       "      <td>40450</td>\n",
       "      <td>33</td>\n",
       "      <td>7</td>\n",
       "    </tr>\n",
       "    <tr>\n",
       "      <th>126</th>\n",
       "      <td>127</td>\n",
       "      <td>11-Oct-13</td>\n",
       "      <td>Baat Ban Gayi</td>\n",
       "      <td>Comedy</td>\n",
       "      <td>4</td>\n",
       "      <td>1.5</td>\n",
       "      <td>23186</td>\n",
       "      <td>9</td>\n",
       "      <td>4</td>\n",
       "    </tr>\n",
       "    <tr>\n",
       "      <th>127</th>\n",
       "      <td>128</td>\n",
       "      <td>16-Oct-13</td>\n",
       "      <td>Boss</td>\n",
       "      <td>Drama</td>\n",
       "      <td>50</td>\n",
       "      <td>45.0</td>\n",
       "      <td>6464704</td>\n",
       "      <td>22977</td>\n",
       "      <td>3396</td>\n",
       "    </tr>\n",
       "    <tr>\n",
       "      <th>128</th>\n",
       "      <td>129</td>\n",
       "      <td>18-Oct-13</td>\n",
       "      <td>Shahid</td>\n",
       "      <td>Drama</td>\n",
       "      <td>6</td>\n",
       "      <td>40.0</td>\n",
       "      <td>1148516</td>\n",
       "      <td>3155</td>\n",
       "      <td>396</td>\n",
       "    </tr>\n",
       "    <tr>\n",
       "      <th>142</th>\n",
       "      <td>143</td>\n",
       "      <td>13-Feb-15</td>\n",
       "      <td>Roy</td>\n",
       "      <td>Romance</td>\n",
       "      <td>40</td>\n",
       "      <td>58.0</td>\n",
       "      <td>7687797</td>\n",
       "      <td>18974</td>\n",
       "      <td>3229</td>\n",
       "    </tr>\n",
       "    <tr>\n",
       "      <th>143</th>\n",
       "      <td>144</td>\n",
       "      <td>20-Feb-15</td>\n",
       "      <td>Badlapur</td>\n",
       "      <td>Action</td>\n",
       "      <td>23</td>\n",
       "      <td>77.0</td>\n",
       "      <td>4550051</td>\n",
       "      <td>10602</td>\n",
       "      <td>893</td>\n",
       "    </tr>\n",
       "  </tbody>\n",
       "</table>\n",
       "</div>"
      ],
      "text/plain": [
       "     SlNo Release Date                             MovieName     Genre  \\\n",
       "23     24     2-Oct-14                                Haider     Drama   \n",
       "31     32    15-Feb-13                              Murder 3  Thriller   \n",
       "40     41     8-Mar-13      Saheb, Biwi Aur Gangster Returns     Drama   \n",
       "62     63    19-Apr-13                         Ek Thi Daayan  Thriller   \n",
       "92     93     2-Oct-14                             Bang Bang    Action   \n",
       "106   107    14-Mar-14                          Bewakoofiyan   Romance   \n",
       "115   116     9-Aug-13                       Chennai Express    Comedy   \n",
       "116   117    15-Aug-13  Once Upon Ay Time In Mumbai Dobaara!  Thriller   \n",
       "119   120     1-Nov-13                              Krrish 3    Action   \n",
       "121   122     8-Nov-13                               Satya 2  Thriller   \n",
       "122   123    15-Nov-13                                 Rajjo   Romance   \n",
       "125   126    11-Oct-13                     War Chhod Na Yaar    Comedy   \n",
       "126   127    11-Oct-13                         Baat Ban Gayi    Comedy   \n",
       "127   128    16-Oct-13                                  Boss     Drama   \n",
       "128   129    18-Oct-13                                Shahid     Drama   \n",
       "142   143    13-Feb-15                                   Roy   Romance   \n",
       "143   144    20-Feb-15                              Badlapur    Action   \n",
       "\n",
       "     Budget  BoxOfficeCollection  YoutubeViews  YoutubeLikes  YoutubeDislikes  \n",
       "23       24                 69.0       7048104         23590             2443  \n",
       "31       12                 25.0       2249055          1879              747  \n",
       "40       15                 22.0       1176596          1037              189  \n",
       "62       24                 45.0       1837437          3296              613  \n",
       "92      140                340.0      15889811         61805             6283  \n",
       "106      22                 14.0       2850376          4764             1068  \n",
       "115      75                395.0       1882346          7954             1593  \n",
       "116     100                 80.0       3077135          9200             2821  \n",
       "119     115                300.0      23171067         72070            11888  \n",
       "121      15                  1.1        110315            89               26  \n",
       "122      12                  2.0       1718619          1606             1083  \n",
       "125      14                  7.5         40450            33                7  \n",
       "126       4                  1.5         23186             9                4  \n",
       "127      50                 45.0       6464704         22977             3396  \n",
       "128       6                 40.0       1148516          3155              396  \n",
       "142      40                 58.0       7687797         18974             3229  \n",
       "143      23                 77.0       4550051         10602              893  "
      ]
     },
     "execution_count": 8,
     "metadata": {},
     "output_type": "execute_result"
    }
   ],
   "source": [
    "GenreBest = Release.get_group('FS')\n",
    "GenreBest"
   ]
  },
  {
   "cell_type": "code",
   "execution_count": 9,
   "metadata": {},
   "outputs": [
    {
     "data": {
      "text/plain": [
       "<AxesSubplot:xlabel='Genre', ylabel='count'>"
      ]
     },
     "execution_count": 9,
     "metadata": {},
     "output_type": "execute_result"
    },
    {
     "data": {
      "image/png": "[encoded data removed]",
      "text/plain": [
       "<Figure size 432x288 with 1 Axes>"
      ]
     },
     "metadata": {
      "needs_background": "light"
     },
     "output_type": "display_data"
    }
   ],
   "source": [
    "import seaborn as sns\n",
    "sns.countplot(data=GenreBest, x = 'Genre')"
   ]
  },
  {
   "cell_type": "markdown",
   "metadata": {},
   "source": [
    "Clearly Drame and Thriller occupy top spots during Festive Season"
   ]
  },
  {
   "cell_type": "code",
   "execution_count": 10,
   "metadata": {},
   "outputs": [
    {
     "data": {
      "text/plain": [
       "Drama       4\n",
       "Thriller    4\n",
       "Action      3\n",
       "Comedy      3\n",
       "Romance     3\n",
       "Name: Genre, dtype: int64"
      ]
     },
     "execution_count": 10,
     "metadata": {},
     "output_type": "execute_result"
    }
   ],
   "source": [
    "GenreBest.Genre.value_counts()"
   ]
  },
  {
   "cell_type": "markdown",
   "metadata": {},
   "source": [
    "4 Thrillers and 4 dramas were releases during Festive Season"
   ]
  },
  {
   "cell_type": "markdown",
   "metadata": {},
   "source": [
    "Q4 How many movies in each genre got released in different release times like long weekend, festive season, etc. (Note: Do a cross tabulation between Genre and ReleaseTime.)"
   ]
  },
  {
   "cell_type": "code",
   "execution_count": 11,
   "metadata": {},
   "outputs": [
    {
     "data": {
      "text/html": [
       "<div>\n",
       "<style scoped>\n",
       "    .dataframe tbody tr th:only-of-type {\n",
       "        vertical-align: middle;\n",
       "    }\n",
       "\n",
       "    .dataframe tbody tr th {\n",
       "        vertical-align: top;\n",
       "    }\n",
       "\n",
       "    .dataframe thead th {\n",
       "        text-align: right;\n",
       "    }\n",
       "</style>\n",
       "<table border=\"1\" class=\"dataframe\">\n",
       "  <thead>\n",
       "    <tr style=\"text-align: right;\">\n",
       "      <th>Genre</th>\n",
       "      <th>Action</th>\n",
       "      <th>Comedy</th>\n",
       "      <th>Drama</th>\n",
       "      <th>Romance</th>\n",
       "      <th>Thriller</th>\n",
       "    </tr>\n",
       "    <tr>\n",
       "      <th>ReleaseTime</th>\n",
       "      <th></th>\n",
       "      <th></th>\n",
       "      <th></th>\n",
       "      <th></th>\n",
       "      <th></th>\n",
       "    </tr>\n",
       "  </thead>\n",
       "  <tbody>\n",
       "    <tr>\n",
       "      <th>FS</th>\n",
       "      <td>3</td>\n",
       "      <td>3</td>\n",
       "      <td>4</td>\n",
       "      <td>3</td>\n",
       "      <td>4</td>\n",
       "    </tr>\n",
       "    <tr>\n",
       "      <th>HS</th>\n",
       "      <td>3</td>\n",
       "      <td>5</td>\n",
       "      <td>6</td>\n",
       "      <td>3</td>\n",
       "      <td>1</td>\n",
       "    </tr>\n",
       "    <tr>\n",
       "      <th>LW</th>\n",
       "      <td>3</td>\n",
       "      <td>5</td>\n",
       "      <td>1</td>\n",
       "      <td>4</td>\n",
       "      <td>2</td>\n",
       "    </tr>\n",
       "    <tr>\n",
       "      <th>N</th>\n",
       "      <td>15</td>\n",
       "      <td>23</td>\n",
       "      <td>24</td>\n",
       "      <td>15</td>\n",
       "      <td>22</td>\n",
       "    </tr>\n",
       "  </tbody>\n",
       "</table>\n",
       "</div>"
      ],
      "text/plain": [
       "Genre        Action  Comedy  Drama  Romance  Thriller\n",
       "ReleaseTime                                          \n",
       "FS                3       3      4        3         4\n",
       "HS                3       5      6        3         1\n",
       "LW                3       5      1        4         2\n",
       "N                15      23     24       15        22"
      ]
     },
     "execution_count": 11,
     "metadata": {},
     "output_type": "execute_result"
    }
   ],
   "source": [
    "pd.crosstab(index =df.ReleaseTime,columns = df.Genre)"
   ]
  },
  {
   "cell_type": "markdown",
   "metadata": {},
   "source": [
    "Q5 - In which year were maximum number movie released? (Note: Extract a new column called year from Release Date column.)"
   ]
  },
  {
   "cell_type": "code",
   "execution_count": 13,
   "metadata": {},
   "outputs": [],
   "source": [
    "df['Release Date']=pd.to_datetime(df['Release Date'])\n",
    "df['Year'] = df['Release Date'].dt.year"
   ]
  },
  {
   "cell_type": "code",
   "execution_count": 14,
   "metadata": {},
   "outputs": [
    {
     "data": {
      "text/plain": [
       "0      2014\n",
       "1      2013\n",
       "2      2014\n",
       "3      2013\n",
       "4      2014\n",
       "       ... \n",
       "144    2015\n",
       "145    2015\n",
       "146    2015\n",
       "147    2015\n",
       "148    2014\n",
       "Name: Year, Length: 149, dtype: int64"
      ]
     },
     "execution_count": 14,
     "metadata": {},
     "output_type": "execute_result"
    }
   ],
   "source": [
    "df.Year"
   ]
  },
  {
   "cell_type": "code",
   "execution_count": 16,
   "metadata": {},
   "outputs": [
    {
     "data": {
      "text/plain": [
       "2014    70\n",
       "2013    67\n",
       "2015    12\n",
       "Name: Year, dtype: int64"
      ]
     },
     "execution_count": 16,
     "metadata": {},
     "output_type": "execute_result"
    }
   ],
   "source": [
    "df.Year.value_counts()"
   ]
  },
  {
   "cell_type": "markdown",
   "metadata": {},
   "source": [
    "Clearly 2014 year has maximum movies released"
   ]
  },
  {
   "cell_type": "markdown",
   "metadata": {},
   "source": [
    "Q6 - Which month of the year typically sees most releases of high budgeted movies, that is, movies with budget of 30crore or more?"
   ]
  },
  {
   "cell_type": "code",
   "execution_count": 17,
   "metadata": {},
   "outputs": [
    {
     "data": {
      "text/plain": [
       "0         April\n",
       "1       January\n",
       "2          July\n",
       "3       January\n",
       "4          July\n",
       "         ...   \n",
       "144    February\n",
       "145       March\n",
       "146       March\n",
       "147       March\n",
       "148         May\n",
       "Name: Month, Length: 149, dtype: object"
      ]
     },
     "execution_count": 17,
     "metadata": {},
     "output_type": "execute_result"
    }
   ],
   "source": [
    "df['Month'] = df['Release Date'].dt.month_name(locale='English')\n",
    "df.Month"
   ]
  },
  {
   "cell_type": "code",
   "execution_count": 99,
   "metadata": {},
   "outputs": [
    {
     "data": {
      "text/plain": [
       "array([ 36,  10,   7,  18,  30,  33,  31,   2,  28,   5,  35,   4,  60,\n",
       "        15,  27,  50,  24,  48,  42, 125,  12,  11,  21,  20,  75, 120,\n",
       "       100,   8,  16,  40,   3,   9,  22,  45,  25,   6,  90,  70,  19,\n",
       "        26,  85, 140,  29, 115,  14,  23,  13,  32, 150], dtype=int64)"
      ]
     },
     "execution_count": 99,
     "metadata": {},
     "output_type": "execute_result"
    }
   ],
   "source": [
    "df.Budget.unique()"
   ]
  },
  {
   "cell_type": "code",
   "execution_count": 123,
   "metadata": {},
   "outputs": [],
   "source": [
    "HighBudgetMonth=df.loc[df.Budget>=30].Month\n",
    "BudgetMonth=pd.DataFrame(HighBudgetMonth.value_counts())\n",
    "BudgetMonth['No of HighBudget Releases'] = BudgetMonth['Month']\n",
    "BudgetMonth['Month'] = BudgetMonth.index\n",
    "BudgetMonth =BudgetMonth.reset_index()\n"
   ]
  },
  {
   "cell_type": "code",
   "execution_count": 124,
   "metadata": {},
   "outputs": [
    {
     "data": {
      "text/plain": [
       "<AxesSubplot:xlabel='Month', ylabel='No of HighBudget Releases'>"
      ]
     },
     "execution_count": 124,
     "metadata": {},
     "output_type": "execute_result"
    },
    {
     "data": {
      "image/png": "[encoded data removed]",
      "text/plain": [
       "<Figure size 864x720 with 1 Axes>"
      ]
     },
     "metadata": {
      "needs_background": "light"
     },
     "output_type": "display_data"
    }
   ],
   "source": [
    "from matplotlib import pyplot as plt\n",
    "# data = defaultdict(list)\n",
    "# for i,j in HighBudgetMonth:\n",
    "#     data['Month'].append(i)\n",
    "#     data['No of HighBudget Releases'].append(len(j))\n",
    "\n",
    "fig,ax = plt.subplots(figsize=([12,10]))\n",
    "plt.xlabel('Month', fontsize=18)\n",
    "plt.ylabel('No of HighBudget Releases', fontsize=16)\n",
    "plt.xticks(fontsize=11)\n",
    "sns.barplot(data=BudgetMonth,x = 'Month',y = 'No of HighBudget Releases')"
   ]
  },
  {
   "cell_type": "markdown",
   "metadata": {},
   "source": [
    "Clearly the Month of Febuary sees the highest number of high budget movie releases(budget of 30 crs or more)"
   ]
  },
  {
   "cell_type": "markdown",
   "metadata": {},
   "source": [
    "Q7 - Which are the top 10 flop movies with minimumreturn on investment (ROI)? Calculate return on investment (ROI) as (BoxOfficeCollection–Budget) / Budget."
   ]
  },
  {
   "cell_type": "code",
   "execution_count": 21,
   "metadata": {},
   "outputs": [],
   "source": [
    "df['ROI'] = (df.BoxOfficeCollection-df.Budget)/df.Budget"
   ]
  },
  {
   "cell_type": "code",
   "execution_count": 22,
   "metadata": {},
   "outputs": [
    {
     "data": {
      "text/html": [
       "<div>\n",
       "<style scoped>\n",
       "    .dataframe tbody tr th:only-of-type {\n",
       "        vertical-align: middle;\n",
       "    }\n",
       "\n",
       "    .dataframe tbody tr th {\n",
       "        vertical-align: top;\n",
       "    }\n",
       "\n",
       "    .dataframe thead th {\n",
       "        text-align: right;\n",
       "    }\n",
       "</style>\n",
       "<table border=\"1\" class=\"dataframe\">\n",
       "  <thead>\n",
       "    <tr style=\"text-align: right;\">\n",
       "      <th></th>\n",
       "      <th>SlNo</th>\n",
       "      <th>Release Date</th>\n",
       "      <th>MovieName</th>\n",
       "      <th>ReleaseTime</th>\n",
       "      <th>Genre</th>\n",
       "      <th>Budget</th>\n",
       "      <th>BoxOfficeCollection</th>\n",
       "      <th>YoutubeViews</th>\n",
       "      <th>YoutubeLikes</th>\n",
       "      <th>YoutubeDislikes</th>\n",
       "      <th>Year</th>\n",
       "      <th>Month</th>\n",
       "      <th>ROI</th>\n",
       "    </tr>\n",
       "  </thead>\n",
       "  <tbody>\n",
       "    <tr>\n",
       "      <th>9</th>\n",
       "      <td>10</td>\n",
       "      <td>2013-01-11</td>\n",
       "      <td>Gangoobai</td>\n",
       "      <td>N</td>\n",
       "      <td>Drama</td>\n",
       "      <td>2</td>\n",
       "      <td>0.01</td>\n",
       "      <td>4354</td>\n",
       "      <td>1</td>\n",
       "      <td>1</td>\n",
       "      <td>2013</td>\n",
       "      <td>January</td>\n",
       "      <td>-0.995000</td>\n",
       "    </tr>\n",
       "    <tr>\n",
       "      <th>15</th>\n",
       "      <td>16</td>\n",
       "      <td>2013-01-18</td>\n",
       "      <td>Bandook</td>\n",
       "      <td>N</td>\n",
       "      <td>Action</td>\n",
       "      <td>4</td>\n",
       "      <td>0.09</td>\n",
       "      <td>28391</td>\n",
       "      <td>8</td>\n",
       "      <td>14</td>\n",
       "      <td>2013</td>\n",
       "      <td>January</td>\n",
       "      <td>-0.977500</td>\n",
       "    </tr>\n",
       "    <tr>\n",
       "      <th>53</th>\n",
       "      <td>54</td>\n",
       "      <td>2013-03-22</td>\n",
       "      <td>Sona Spa</td>\n",
       "      <td>N</td>\n",
       "      <td>Thriller</td>\n",
       "      <td>10</td>\n",
       "      <td>0.24</td>\n",
       "      <td>79430</td>\n",
       "      <td>61</td>\n",
       "      <td>112</td>\n",
       "      <td>2013</td>\n",
       "      <td>March</td>\n",
       "      <td>-0.976000</td>\n",
       "    </tr>\n",
       "    <tr>\n",
       "      <th>3</th>\n",
       "      <td>4</td>\n",
       "      <td>2013-01-04</td>\n",
       "      <td>Rajdhani Express</td>\n",
       "      <td>N</td>\n",
       "      <td>Drama</td>\n",
       "      <td>7</td>\n",
       "      <td>0.35</td>\n",
       "      <td>42626</td>\n",
       "      <td>86</td>\n",
       "      <td>19</td>\n",
       "      <td>2013</td>\n",
       "      <td>January</td>\n",
       "      <td>-0.950000</td>\n",
       "    </tr>\n",
       "    <tr>\n",
       "      <th>49</th>\n",
       "      <td>50</td>\n",
       "      <td>2014-05-02</td>\n",
       "      <td>Kya Dilli Kya Lahore</td>\n",
       "      <td>HS</td>\n",
       "      <td>Drama</td>\n",
       "      <td>7</td>\n",
       "      <td>0.50</td>\n",
       "      <td>492344</td>\n",
       "      <td>2018</td>\n",
       "      <td>64</td>\n",
       "      <td>2014</td>\n",
       "      <td>May</td>\n",
       "      <td>-0.928571</td>\n",
       "    </tr>\n",
       "    <tr>\n",
       "      <th>121</th>\n",
       "      <td>122</td>\n",
       "      <td>2013-11-08</td>\n",
       "      <td>Satya 2</td>\n",
       "      <td>FS</td>\n",
       "      <td>Thriller</td>\n",
       "      <td>15</td>\n",
       "      <td>1.10</td>\n",
       "      <td>110315</td>\n",
       "      <td>89</td>\n",
       "      <td>26</td>\n",
       "      <td>2013</td>\n",
       "      <td>November</td>\n",
       "      <td>-0.926667</td>\n",
       "    </tr>\n",
       "    <tr>\n",
       "      <th>67</th>\n",
       "      <td>68</td>\n",
       "      <td>2014-05-02</td>\n",
       "      <td>Purani Jeans</td>\n",
       "      <td>HS</td>\n",
       "      <td>Romance</td>\n",
       "      <td>10</td>\n",
       "      <td>1.10</td>\n",
       "      <td>1537063</td>\n",
       "      <td>822</td>\n",
       "      <td>229</td>\n",
       "      <td>2014</td>\n",
       "      <td>May</td>\n",
       "      <td>-0.890000</td>\n",
       "    </tr>\n",
       "    <tr>\n",
       "      <th>103</th>\n",
       "      <td>104</td>\n",
       "      <td>2014-04-25</td>\n",
       "      <td>Samrat and Co.</td>\n",
       "      <td>N</td>\n",
       "      <td>Thriller</td>\n",
       "      <td>18</td>\n",
       "      <td>2.00</td>\n",
       "      <td>371133</td>\n",
       "      <td>532</td>\n",
       "      <td>180</td>\n",
       "      <td>2014</td>\n",
       "      <td>April</td>\n",
       "      <td>-0.888889</td>\n",
       "    </tr>\n",
       "    <tr>\n",
       "      <th>30</th>\n",
       "      <td>31</td>\n",
       "      <td>2014-02-07</td>\n",
       "      <td>Heartless</td>\n",
       "      <td>N</td>\n",
       "      <td>Thriller</td>\n",
       "      <td>12</td>\n",
       "      <td>1.50</td>\n",
       "      <td>4823892</td>\n",
       "      <td>5797</td>\n",
       "      <td>227</td>\n",
       "      <td>2014</td>\n",
       "      <td>February</td>\n",
       "      <td>-0.875000</td>\n",
       "    </tr>\n",
       "    <tr>\n",
       "      <th>102</th>\n",
       "      <td>103</td>\n",
       "      <td>2014-04-25</td>\n",
       "      <td>Kaanchi</td>\n",
       "      <td>N</td>\n",
       "      <td>Drama</td>\n",
       "      <td>31</td>\n",
       "      <td>4.00</td>\n",
       "      <td>2360968</td>\n",
       "      <td>2807</td>\n",
       "      <td>595</td>\n",
       "      <td>2014</td>\n",
       "      <td>April</td>\n",
       "      <td>-0.870968</td>\n",
       "    </tr>\n",
       "  </tbody>\n",
       "</table>\n",
       "</div>"
      ],
      "text/plain": [
       "     SlNo Release Date             MovieName ReleaseTime     Genre  Budget  \\\n",
       "9      10   2013-01-11             Gangoobai           N     Drama       2   \n",
       "15     16   2013-01-18               Bandook           N    Action       4   \n",
       "53     54   2013-03-22              Sona Spa           N  Thriller      10   \n",
       "3       4   2013-01-04      Rajdhani Express           N     Drama       7   \n",
       "49     50   2014-05-02  Kya Dilli Kya Lahore          HS     Drama       7   \n",
       "121   122   2013-11-08               Satya 2          FS  Thriller      15   \n",
       "67     68   2014-05-02          Purani Jeans          HS   Romance      10   \n",
       "103   104   2014-04-25        Samrat and Co.           N  Thriller      18   \n",
       "30     31   2014-02-07             Heartless           N  Thriller      12   \n",
       "102   103   2014-04-25               Kaanchi           N     Drama      31   \n",
       "\n",
       "     BoxOfficeCollection  YoutubeViews  YoutubeLikes  YoutubeDislikes  Year  \\\n",
       "9                   0.01          4354             1                1  2013   \n",
       "15                  0.09         28391             8               14  2013   \n",
       "53                  0.24         79430            61              112  2013   \n",
       "3                   0.35         42626            86               19  2013   \n",
       "49                  0.50        492344          2018               64  2014   \n",
       "121                 1.10        110315            89               26  2013   \n",
       "67                  1.10       1537063           822              229  2014   \n",
       "103                 2.00        371133           532              180  2014   \n",
       "30                  1.50       4823892          5797              227  2014   \n",
       "102                 4.00       2360968          2807              595  2014   \n",
       "\n",
       "        Month       ROI  \n",
       "9     January -0.995000  \n",
       "15    January -0.977500  \n",
       "53      March -0.976000  \n",
       "3     January -0.950000  \n",
       "49        May -0.928571  \n",
       "121  November -0.926667  \n",
       "67        May -0.890000  \n",
       "103     April -0.888889  \n",
       "30   February -0.875000  \n",
       "102     April -0.870968  "
      ]
     },
     "execution_count": 22,
     "metadata": {},
     "output_type": "execute_result"
    }
   ],
   "source": [
    "Flops_10 = df.nsmallest(10,['ROI'])\n",
    "Flops_10"
   ]
  },
  {
   "cell_type": "code",
   "execution_count": 23,
   "metadata": {},
   "outputs": [
    {
     "data": {
      "text/plain": [
       "array(['Gangoobai', 'Bandook', 'Sona Spa', 'Rajdhani Express',\n",
       "       'Kya Dilli Kya Lahore', 'Satya 2', 'Purani Jeans',\n",
       "       'Samrat and Co.', 'Heartless', 'Kaanchi'], dtype=object)"
      ]
     },
     "execution_count": 23,
     "metadata": {},
     "output_type": "execute_result"
    }
   ],
   "source": [
    "# 10 flop movie names -\n",
    "Flops_10.MovieName.unique()"
   ]
  },
  {
   "cell_type": "markdown",
   "metadata": {},
   "source": [
    "Q8- Do the movies have higher ROI if they get released on festive seasons or long weekend? Calculate the average ROI for different release times."
   ]
  },
  {
   "cell_type": "code",
   "execution_count": 24,
   "metadata": {},
   "outputs": [
    {
     "data": {
      "text/plain": [
       "<AxesSubplot:xlabel='ReleaseTime', ylabel='ROI'>"
      ]
     },
     "execution_count": 24,
     "metadata": {},
     "output_type": "execute_result"
    },
    {
     "data": {
      "image/png": "[encoded data removed]",
      "text/plain": [
       "<Figure size 432x288 with 1 Axes>"
      ]
     },
     "metadata": {
      "needs_background": "light"
     },
     "output_type": "display_data"
    }
   ],
   "source": [
    "sns.barplot(data=df,x = 'ReleaseTime',y = 'ROI',ci=None)"
   ]
  },
  {
   "cell_type": "markdown",
   "metadata": {},
   "source": [
    "Its clear to see movies has highest ROI when released on Long Weekends, even higher than that during Festive Season"
   ]
  },
  {
   "cell_type": "code",
   "execution_count": 25,
   "metadata": {},
   "outputs": [],
   "source": [
    "ROI_Release = df.groupby('ReleaseTime')"
   ]
  },
  {
   "cell_type": "code",
   "execution_count": 26,
   "metadata": {},
   "outputs": [
    {
     "data": {
      "text/plain": [
       "ReleaseTime\n",
       "FS    0.973853\n",
       "HS    0.850867\n",
       "LW    1.127205\n",
       "N     0.657722\n",
       "Name: ROI, dtype: float64"
      ]
     },
     "execution_count": 26,
     "metadata": {},
     "output_type": "execute_result"
    }
   ],
   "source": [
    "ROI_Release.ROI.mean()"
   ]
  },
  {
   "cell_type": "markdown",
   "metadata": {},
   "source": [
    "Here are the average ROI collected per ReleaseTime"
   ]
  },
  {
   "cell_type": "markdown",
   "metadata": {},
   "source": [
    "Q9 - Is there a correlation between box office collection and YouTube likes? Is the correlation positive or negative?"
   ]
  },
  {
   "cell_type": "code",
   "execution_count": 27,
   "metadata": {},
   "outputs": [
    {
     "data": {
      "text/plain": [
       "0.6825165877731297"
      ]
     },
     "execution_count": 27,
     "metadata": {},
     "output_type": "execute_result"
    }
   ],
   "source": [
    "df.BoxOfficeCollection.corr(df.YoutubeLikes)"
   ]
  },
  {
   "cell_type": "markdown",
   "metadata": {},
   "source": [
    "There's a sufficiently high positive correlation between Youtube Likes and Box Office Collection"
   ]
  },
  {
   "cell_type": "markdown",
   "metadata": {},
   "source": [
    "Q10 - Which genre of movies typically sees more YouTube views? Draw boxplots for each genre of movies to compare."
   ]
  },
  {
   "cell_type": "code",
   "execution_count": 28,
   "metadata": {},
   "outputs": [
    {
     "data": {
      "text/plain": [
       "<AxesSubplot:xlabel='Genre', ylabel='YoutubeViews'>"
      ]
     },
     "execution_count": 28,
     "metadata": {},
     "output_type": "execute_result"
    },
    {
     "data": {
      "image/png": "[encoded data removed]",
      "text/plain": [
       "<Figure size 432x288 with 1 Axes>"
      ]
     },
     "metadata": {
      "needs_background": "light"
     },
     "output_type": "display_data"
    }
   ],
   "source": [
    "sns.boxplot(data=df,x = 'Genre',y = 'YoutubeViews')"
   ]
  },
  {
   "cell_type": "markdown",
   "metadata": {},
   "source": [
    "Clearly Action Genre gets most Youtube Views"
   ]
  },
  {
   "cell_type": "code",
   "execution_count": 29,
   "metadata": {},
   "outputs": [
    {
     "data": {
      "text/plain": [
       "Comedy      36\n",
       "Drama       35\n",
       "Thriller    29\n",
       "Romance     25\n",
       "Action      24\n",
       "Name: Genre, dtype: int64"
      ]
     },
     "execution_count": 29,
     "metadata": {},
     "output_type": "execute_result"
    }
   ],
   "source": [
    "df.Genre.value_counts()"
   ]
  },
  {
   "cell_type": "markdown",
   "metadata": {},
   "source": [
    "Q11 - Which of the variables among Budget,BoxOfficeCollection,YoutubeView,YoutubeLikes,YoutubeDislikesare highly correlated? Note: Draw pair plot orheatmap."
   ]
  },
  {
   "cell_type": "code",
   "execution_count": 30,
   "metadata": {},
   "outputs": [
    {
     "data": {
      "text/plain": [
       "<AxesSubplot:>"
      ]
     },
     "execution_count": 30,
     "metadata": {},
     "output_type": "execute_result"
    },
    {
     "data": {
      "image/png": "[encoded data removed]",
      "text/plain": [
       "<Figure size 432x288 with 2 Axes>"
      ]
     },
     "metadata": {
      "needs_background": "light"
     },
     "output_type": "display_data"
    }
   ],
   "source": [
    "sns.heatmap(df[['Budget','BoxOfficeCollection', 'YoutubeViews', 'YoutubeLikes','YoutubeDislikes']].corr(),annot=True,cmap = 'YlGnBu')"
   ]
  },
  {
   "cell_type": "markdown",
   "metadata": {},
   "source": [
    "Here, we can clearly observe the values of correlation between chosen variables"
   ]
  },
  {
   "cell_type": "markdown",
   "metadata": {},
   "source": [
    "Q12 - During 2013−2015 period,highlight the genre of movies and theirbox office collection? Visualize with best fit graph."
   ]
  },
  {
   "cell_type": "code",
   "execution_count": 31,
   "metadata": {},
   "outputs": [
    {
     "data": {
      "text/plain": [
       "<AxesSubplot:xlabel='Genre', ylabel='BoxOfficeCollection'>"
      ]
     },
     "execution_count": 31,
     "metadata": {},
     "output_type": "execute_result"
    },
    {
     "data": {
      "image/png": "[encoded data removed]",
      "text/plain": [
       "<Figure size 432x288 with 1 Axes>"
      ]
     },
     "metadata": {
      "needs_background": "light"
     },
     "output_type": "display_data"
    }
   ],
   "source": [
    "sns.barplot(data=df,x = 'Genre',y = 'BoxOfficeCollection',hue='Year',ci=None)"
   ]
  },
  {
   "cell_type": "markdown",
   "metadata": {},
   "source": [
    "BoxOfficeCollection of each Genre across the period of 2013-2015 has been clearly highlighted by the visualization"
   ]
  },
  {
   "cell_type": "markdown",
   "metadata": {},
   "source": [
    "Q13 - During 2013−2015, find the number of movies released in every year. Also, visualize with best fit graph."
   ]
  },
  {
   "cell_type": "code",
   "execution_count": 32,
   "metadata": {},
   "outputs": [
    {
     "data": {
      "text/plain": [
       "<AxesSubplot:xlabel='Year', ylabel='count'>"
      ]
     },
     "execution_count": 32,
     "metadata": {},
     "output_type": "execute_result"
    },
    {
     "data": {
      "image/png": "[encoded data removed]",
      "text/plain": [
       "<Figure size 432x288 with 1 Axes>"
      ]
     },
     "metadata": {
      "needs_background": "light"
     },
     "output_type": "display_data"
    }
   ],
   "source": [
    "sns.countplot(data=df,x = 'Year')"
   ]
  },
  {
   "cell_type": "markdown",
   "metadata": {},
   "source": [
    "Q14-Find the distribution of movie budget for every Genre."
   ]
  },
  {
   "cell_type": "code",
   "execution_count": 33,
   "metadata": {},
   "outputs": [
    {
     "data": {
      "text/plain": [
       "<AxesSubplot:xlabel='Genre', ylabel='Budget'>"
      ]
     },
     "execution_count": 33,
     "metadata": {},
     "output_type": "execute_result"
    },
    {
     "data": {
      "image/png": "[encoded data removed]",
      "text/plain": [
       "<Figure size 432x288 with 1 Axes>"
      ]
     },
     "metadata": {
      "needs_background": "light"
     },
     "output_type": "display_data"
    }
   ],
   "source": [
    "sns.boxplot(data=df,x = 'Genre',y = 'Budget')"
   ]
  },
  {
   "cell_type": "markdown",
   "metadata": {},
   "source": [
    "Distribution of each genre's Budget visualized"
   ]
  },
  {
   "cell_type": "markdown",
   "metadata": {},
   "source": [
    "15. During 2013−2015, Visualize the number of YouTube likes and YouTube dislikes every year. Also, visualize with best fit graph."
   ]
  },
  {
   "cell_type": "code",
   "execution_count": 79,
   "metadata": {},
   "outputs": [
    {
     "data": {
      "image/png": "[encoded data removed]",
      "text/plain": [
       "<Figure size 720x360 with 1 Axes>"
      ]
     },
     "metadata": {
      "needs_background": "light"
     },
     "output_type": "display_data"
    }
   ],
   "source": [
    "fig,ax = plt.subplots(figsize = (10,5))\n",
    "width = 0.35\n",
    "rects1 = ax.bar(df.Year - width/2, df.YoutubeLikes, width, label='YoutubeLikes',color = 'blueviolet')\n",
    "rects2 = ax.bar(df.Year + width/2, df.YoutubeDislikes, width, label='YoutubeDislikes',color = 'crimson')\n",
    "ax.set_ylabel('Years')\n",
    "ax.set_title('Count of YoutubeLikes and Dislikes')\n",
    "ax.legend()\n",
    "fig.tight_layout()\n",
    "# ax[1].bar(x = df.Year,height = df.YoutubeDislikes,color = 'limegreen')\n",
    "# ax[1].set_title('YoutubeDislikes')"
   ]
  },
  {
   "cell_type": "markdown",
   "metadata": {},
   "source": [
    "COMPLETE"
   ]
  }
 ],
 "metadata": {
  "kernelspec": {
   "display_name": "Python 3",
   "language": "python",
   "name": "python3"
  },
  "language_info": {
   "codemirror_mode": {
    "name": "ipython",
    "version": 3
   },
   "file_extension": ".py",
   "mimetype": "text/x-python",
   "name": "python",
   "nbconvert_exporter": "python",
   "pygments_lexer": "ipython3",
   "version": "3.8.5"
  }
 },
 "nbformat": 4,
 "nbformat_minor": 5
}
